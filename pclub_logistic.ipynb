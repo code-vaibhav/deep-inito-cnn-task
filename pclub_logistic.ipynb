{
  "nbformat": 4,
  "nbformat_minor": 0,
  "metadata": {
    "colab": {
      "name": "pclub_logistic.ipynb",
      "provenance": []
    },
    "kernelspec": {
      "name": "python3",
      "display_name": "Python 3"
    },
    "language_info": {
      "name": "python"
    }
  },
  "cells": [
    {
      "cell_type": "code",
      "metadata": {
        "id": "VuHpsvrunzAQ"
      },
      "source": [
        "import numpy as np\n",
        "import matplotlib.pyplot as plt\n",
        "import pandas as pd\n",
        "from sklearn.model_selection import train_test_split"
      ],
      "execution_count": 27,
      "outputs": []
    },
    {
      "cell_type": "code",
      "metadata": {
        "id": "FWsWKNQPjlap"
      },
      "source": [
        "#helper functions\n",
        " \n",
        "def sigmoid(Z):\n",
        "  return 1/(1 + np.exp(-Z))\n",
        "\n",
        "def calc_loss(Y, Y_hat):\n",
        "  m = Y.shape[0]\n",
        "  loss = -(np.dot(Y, np.log(Y_hat)) + np.dot(1-Y, np.log(1-Y_hat))) / m\n",
        "  loss = np.squeeze(loss)\n",
        "  \n",
        "  return loss\n",
        "\n",
        "def calc_accuracy(Y, Y_hat):\n",
        "  correctly_classified = 0\n",
        "  count = 0\n",
        "  for i in range(np.size(Y_hat)):\n",
        "    if Y[i] == Y_hat[i]:\n",
        "      correctly_classified += 1\n",
        "    count += 1\n",
        "\n",
        "  accuracy = (correctly_classified / count) * 100\n",
        "  return accuracy\n",
        "\n",
        "# for prediction of y\n",
        "def predict(X, params):\n",
        "  W = params['W']\n",
        "  b = params['b']\n",
        "  A = sigmoid(np.dot(X, W) + b)\n",
        "  \n",
        "  Y = np.where(A > 0.5, 1, 0)\n",
        "  return Y\n",
        "\n",
        "# main function\n",
        "\n",
        "def logistic_regression(X, Y, learning_rate, iterations=10000):\n",
        "  np.random.seed(1)\n",
        "  m, n = X.shape\n",
        "  W = np.random.rand(n)\n",
        "  b = 0\n",
        "  losses = []\n",
        "  correctness = []\n",
        "  \n",
        "  for i in range(iterations):\n",
        "    \n",
        "    Z = np.dot(X, W) + b\n",
        "    A = sigmoid(Z)\n",
        "    \n",
        "    dZ = (A - Y.T).reshape(m)\n",
        "    dW = np.dot(X.T, dZ) / m\n",
        "    db = np.sum(dZ) / m\n",
        "\n",
        "    W -= learning_rate*dW\n",
        "    b -= learning_rate*db\n",
        "\n",
        "    if i % 100 == 0:\n",
        "      Y_hat = np.where(A > 0.5, 1, 0)\n",
        "      loss = calc_loss(Y, A)\n",
        "      accuracy = calc_accuracy(Y, Y_hat)\n",
        "      print('%d: (Loss: %.2f, Correctness: %.2f)'%(i, loss, accuracy))\n",
        "      losses.append(loss)\n",
        "      correctness.append(accuracy)\n",
        "\n",
        "  parameters = {\n",
        "      'W': W,\n",
        "      'b': b\n",
        "  }\n",
        "  return parameters, losses, correctness"
      ],
      "execution_count": 161,
      "outputs": []
    },
    {
      "cell_type": "markdown",
      "metadata": {
        "id": "y1mZnbnHECpI"
      },
      "source": [
        "# Training the model"
      ]
    },
    {
      "cell_type": "code",
      "metadata": {
        "colab": {
          "base_uri": "https://localhost:8080/"
        },
        "id": "EwArgFP8rMFY",
        "outputId": "39127ab7-1c9c-48c0-a83e-49910649dd73"
      },
      "source": [
        "# training the model\n",
        "\n",
        "data = pd.read_csv('https://raw.githubusercontent.com/mabhay3420/Deep-Into-CNN/master/Datasets/diabetes2.csv')\n",
        "X = data.iloc[:, :8].values\n",
        "Y = data.iloc[:, 8].values\n",
        "\n",
        "for i in range(X.shape[1]):\n",
        "  max = np.max(X[:,i])\n",
        "  X[:,i] /= max\n",
        "\n",
        "x_test, x_train, y_test, y_train = train_test_split(X, Y, test_size=1/5)\n",
        "\n",
        "trained_params, losses, correctness = logistic_regression(X, Y, learning_rate = 0.06)"
      ],
      "execution_count": 162,
      "outputs": [
        {
          "output_type": "stream",
          "text": [
            "0: (Loss: 0.86, Correctness: 34.90)\n",
            "100: (Loss: 0.62, Correctness: 65.10)\n",
            "200: (Loss: 0.62, Correctness: 65.10)\n",
            "300: (Loss: 0.61, Correctness: 65.23)\n",
            "400: (Loss: 0.61, Correctness: 65.76)\n",
            "500: (Loss: 0.60, Correctness: 66.15)\n",
            "600: (Loss: 0.59, Correctness: 67.58)\n",
            "700: (Loss: 0.59, Correctness: 68.23)\n",
            "800: (Loss: 0.59, Correctness: 69.14)\n",
            "900: (Loss: 0.58, Correctness: 69.40)\n",
            "1000: (Loss: 0.58, Correctness: 69.53)\n",
            "1100: (Loss: 0.57, Correctness: 70.05)\n",
            "1200: (Loss: 0.57, Correctness: 70.83)\n",
            "1300: (Loss: 0.57, Correctness: 71.48)\n",
            "1400: (Loss: 0.56, Correctness: 72.14)\n",
            "1500: (Loss: 0.56, Correctness: 72.40)\n",
            "1600: (Loss: 0.56, Correctness: 72.40)\n",
            "1700: (Loss: 0.55, Correctness: 72.53)\n",
            "1800: (Loss: 0.55, Correctness: 72.40)\n",
            "1900: (Loss: 0.55, Correctness: 72.79)\n",
            "2000: (Loss: 0.55, Correctness: 73.18)\n",
            "2100: (Loss: 0.54, Correctness: 73.31)\n",
            "2200: (Loss: 0.54, Correctness: 73.31)\n",
            "2300: (Loss: 0.54, Correctness: 73.96)\n",
            "2400: (Loss: 0.54, Correctness: 74.22)\n",
            "2500: (Loss: 0.54, Correctness: 74.22)\n",
            "2600: (Loss: 0.53, Correctness: 74.35)\n",
            "2700: (Loss: 0.53, Correctness: 75.00)\n",
            "2800: (Loss: 0.53, Correctness: 75.13)\n",
            "2900: (Loss: 0.53, Correctness: 75.39)\n",
            "3000: (Loss: 0.53, Correctness: 75.39)\n",
            "3100: (Loss: 0.53, Correctness: 75.65)\n",
            "3200: (Loss: 0.52, Correctness: 75.52)\n",
            "3300: (Loss: 0.52, Correctness: 75.65)\n",
            "3400: (Loss: 0.52, Correctness: 75.78)\n",
            "3500: (Loss: 0.52, Correctness: 76.04)\n",
            "3600: (Loss: 0.52, Correctness: 76.04)\n",
            "3700: (Loss: 0.52, Correctness: 76.17)\n",
            "3800: (Loss: 0.52, Correctness: 76.43)\n",
            "3900: (Loss: 0.52, Correctness: 76.43)\n",
            "4000: (Loss: 0.51, Correctness: 76.69)\n",
            "4100: (Loss: 0.51, Correctness: 76.56)\n",
            "4200: (Loss: 0.51, Correctness: 76.82)\n",
            "4300: (Loss: 0.51, Correctness: 76.95)\n",
            "4400: (Loss: 0.51, Correctness: 76.82)\n",
            "4500: (Loss: 0.51, Correctness: 76.82)\n",
            "4600: (Loss: 0.51, Correctness: 76.82)\n",
            "4700: (Loss: 0.51, Correctness: 76.95)\n",
            "4800: (Loss: 0.51, Correctness: 76.95)\n",
            "4900: (Loss: 0.51, Correctness: 76.95)\n",
            "5000: (Loss: 0.51, Correctness: 76.82)\n",
            "5100: (Loss: 0.50, Correctness: 76.43)\n",
            "5200: (Loss: 0.50, Correctness: 76.56)\n",
            "5300: (Loss: 0.50, Correctness: 76.69)\n",
            "5400: (Loss: 0.50, Correctness: 76.69)\n",
            "5500: (Loss: 0.50, Correctness: 76.69)\n",
            "5600: (Loss: 0.50, Correctness: 76.95)\n",
            "5700: (Loss: 0.50, Correctness: 76.95)\n",
            "5800: (Loss: 0.50, Correctness: 76.95)\n",
            "5900: (Loss: 0.50, Correctness: 76.95)\n",
            "6000: (Loss: 0.50, Correctness: 76.95)\n",
            "6100: (Loss: 0.50, Correctness: 76.82)\n",
            "6200: (Loss: 0.50, Correctness: 76.82)\n",
            "6300: (Loss: 0.50, Correctness: 76.69)\n",
            "6400: (Loss: 0.50, Correctness: 76.69)\n",
            "6500: (Loss: 0.50, Correctness: 76.95)\n",
            "6600: (Loss: 0.50, Correctness: 76.95)\n",
            "6700: (Loss: 0.49, Correctness: 76.69)\n",
            "6800: (Loss: 0.49, Correctness: 76.69)\n",
            "6900: (Loss: 0.49, Correctness: 76.69)\n",
            "7000: (Loss: 0.49, Correctness: 76.95)\n",
            "7100: (Loss: 0.49, Correctness: 76.95)\n",
            "7200: (Loss: 0.49, Correctness: 76.95)\n",
            "7300: (Loss: 0.49, Correctness: 76.95)\n",
            "7400: (Loss: 0.49, Correctness: 76.95)\n",
            "7500: (Loss: 0.49, Correctness: 76.95)\n",
            "7600: (Loss: 0.49, Correctness: 76.82)\n",
            "7700: (Loss: 0.49, Correctness: 76.82)\n",
            "7800: (Loss: 0.49, Correctness: 76.82)\n",
            "7900: (Loss: 0.49, Correctness: 76.82)\n",
            "8000: (Loss: 0.49, Correctness: 76.82)\n",
            "8100: (Loss: 0.49, Correctness: 76.82)\n",
            "8200: (Loss: 0.49, Correctness: 76.95)\n",
            "8300: (Loss: 0.49, Correctness: 77.08)\n",
            "8400: (Loss: 0.49, Correctness: 77.08)\n",
            "8500: (Loss: 0.49, Correctness: 77.08)\n",
            "8600: (Loss: 0.49, Correctness: 77.21)\n",
            "8700: (Loss: 0.49, Correctness: 77.21)\n",
            "8800: (Loss: 0.49, Correctness: 77.34)\n",
            "8900: (Loss: 0.49, Correctness: 77.47)\n",
            "9000: (Loss: 0.49, Correctness: 77.47)\n",
            "9100: (Loss: 0.49, Correctness: 77.47)\n",
            "9200: (Loss: 0.49, Correctness: 77.47)\n",
            "9300: (Loss: 0.49, Correctness: 77.47)\n",
            "9400: (Loss: 0.49, Correctness: 77.47)\n",
            "9500: (Loss: 0.49, Correctness: 77.47)\n",
            "9600: (Loss: 0.49, Correctness: 77.47)\n",
            "9700: (Loss: 0.48, Correctness: 77.60)\n",
            "9800: (Loss: 0.48, Correctness: 77.73)\n",
            "9900: (Loss: 0.48, Correctness: 77.60)\n"
          ],
          "name": "stdout"
        }
      ]
    },
    {
      "cell_type": "markdown",
      "metadata": {
        "id": "rx-OiGt7D3mX"
      },
      "source": [
        "#Accuracy on test data is 77.85%"
      ]
    },
    {
      "cell_type": "code",
      "metadata": {
        "colab": {
          "base_uri": "https://localhost:8080/"
        },
        "id": "mksAL-P3sVs_",
        "outputId": "f993540a-50c7-4234-c040-036314a5adaf"
      },
      "source": [
        "Y_pred = predict(x_test, trained_params)\n",
        "\n",
        "# accuracy on test data\n",
        "accuracy = calc_accuracy(y_test, Y_pred)\n",
        "print('accuracy on test data is: %.2f'%(accuracy))"
      ],
      "execution_count": 160,
      "outputs": [
        {
          "output_type": "stream",
          "text": [
            "accuracy on test data is: 77.85\n"
          ],
          "name": "stdout"
        }
      ]
    },
    {
      "cell_type": "markdown",
      "metadata": {
        "id": "BgqrBI4TDptx"
      },
      "source": [
        "#Plots of losses and correctness\n",
        "\n",
        "\n",
        "\n"
      ]
    },
    {
      "cell_type": "code",
      "metadata": {
        "colab": {
          "base_uri": "https://localhost:8080/",
          "height": 281
        },
        "id": "j2tdjbeg36m5",
        "outputId": "7a778df2-0504-40cc-94f6-679c7c536b69"
      },
      "source": [
        "figure, axis = plt.subplots(1, 2)\n",
        "axis[0].plot(losses, color='r')\n",
        "axis[0].set_title('Losses')\n",
        "\n",
        "axis[1].plot(correctness, color='g')\n",
        "axis[1].set_title('Correctness')\n",
        "\n",
        "plt.show()"
      ],
      "execution_count": 156,
      "outputs": [
        {
          "output_type": "display_data",
          "data": {
            "image/png": "[encoded data removed]",
            "text/plain": [
              "<Figure size 432x288 with 2 Axes>"
            ]
          },
          "metadata": {
            "tags": [],
            "needs_background": "light"
          }
        }
      ]
    },
    {
      "cell_type": "code",
      "metadata": {
        "id": "Bt2C7nOAEAJ9"
      },
      "source": [
        ""
      ],
      "execution_count": null,
      "outputs": []
    }
  ]
}